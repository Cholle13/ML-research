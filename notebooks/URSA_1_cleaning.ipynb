{
 "cells": [
  {
   "cell_type": "markdown",
   "metadata": {},
   "source": [
    "# URSA Unsupervised Machine Learning for Groundwater Modeling"
   ]
  },
  {
   "cell_type": "markdown",
   "metadata": {},
   "source": [
    "### Goal:  \n",
    "Analyze and clean data to prepare for tensorly and kmeans clustering.  \n",
    "Data has been pulled and stored in the files `./data_files/mesh.txt` and `./data_files/react.txt`"
   ]
  },
  {
   "cell_type": "code",
   "execution_count": 1,
   "metadata": {},
   "outputs": [
    {
     "name": "stdout",
     "output_type": "stream",
     "text": [
      "Index(['TIME                ', 'ELEM                ', 'INDEX               ',\n",
      "       'P (Pa)              ', 'T (deg C)           ', 'SG                  ',\n",
      "       'SS                  ', 'XNaCl               ', 'YH2OG               ',\n",
      "       'XCO2aq              ', 'PCAP (Pa)           ', 'k-red               ',\n",
      "       'DG (kg/m^3)         ', 'DL (kg/m^3)         ', 'PER MOD             ',\n",
      "       'X2                  ', 'X3                  ', 'DX1                 ',\n",
      "       'DX2                 ', 'DX3                 ', 'DX4                 ',\n",
      "       'K(gas)              ', 'K(liq)              ', 'VIS(gas)            ',\n",
      "       'VIS(liq)            '],\n",
      "      dtype='object')\n",
      "Index(['TIME                ', 'ELEM                ', 'INDEX               ',\n",
      "       'Sg                  ', 'Sl                  ', 'T                   ',\n",
      "       'pH                  ', 'alo2-               ', 'ca+2                ',\n",
      "       'cl-                 ', 'fe+2                ', 'h+                  ',\n",
      "       'h2o                 ', 'hco3-               ', 'k+                  ',\n",
      "       'mg+2                ', 'na+                 ', 'o2(aq)              ',\n",
      "       'sio2(aq)            ', 'so4-2               ', 'SMco2               ',\n",
      "       'Porosity            ', 'Permeabi.           ', 'calcite             ',\n",
      "       'quartz              ', 'chlorite            ', 'illite              ',\n",
      "       'albite              ', 'siderite-2          ', 'ankerite            ',\n",
      "       'kaolinite           ', 'magnesite           ', 'dolomite            ',\n",
      "       'smectite-na         ', 'co2(g)              ', 'fugcoe_co2(g)       '],\n",
      "      dtype='object')\n"
     ]
    }
   ],
   "source": [
    "# import necessary libraries\n",
    "import pandas as pd\n",
    "import numpy as np\n",
    "\n",
    "# load files into DataFrames\n",
    "\n",
    "mesh_original  = pd.read_csv(\"../data_files/mesh.txt\", delimiter='\\t', header='infer', index_col=None)\n",
    "react_original = pd.read_csv(\"../data_files/react.txt\", delimiter='\\t', header='infer', index_col=None)\n",
    "\n",
    "print(mesh_original.columns)\n",
    "print(react_original.columns)"
   ]
  },
  {
   "cell_type": "markdown",
   "metadata": {},
   "source": [
    ">After running the previous block it was evident that the titles had extra whitespace that needed to be removed."
   ]
  },
  {
   "cell_type": "code",
   "execution_count": 2,
   "metadata": {},
   "outputs": [
    {
     "name": "stdout",
     "output_type": "stream",
     "text": [
      "Index(['TIME                ', 'ELEM                ', 'INDEX               ',\n",
      "       'P (Pa)              ', 'T (deg C)           ', 'SG                  ',\n",
      "       'SS                  ', 'XNaCl               ', 'YH2OG               ',\n",
      "       'XCO2aq              ', 'PCAP (Pa)           ', 'k-red               ',\n",
      "       'DG (kg/m^3)         ', 'DL (kg/m^3)         ', 'PER MOD             ',\n",
      "       'X2                  ', 'X3                  ', 'DX1                 ',\n",
      "       'DX2                 ', 'DX3                 ', 'DX4                 ',\n",
      "       'K(gas)              ', 'K(liq)              ', 'VIS(gas)            ',\n",
      "       'VIS(liq)            '],\n",
      "      dtype='object')\n",
      "Index(['TIME                ', 'ELEM                ', 'INDEX               ',\n",
      "       'Sg                  ', 'Sl                  ', 'T                   ',\n",
      "       'pH                  ', 'alo2-               ', 'ca+2                ',\n",
      "       'cl-                 ', 'fe+2                ', 'h+                  ',\n",
      "       'h2o                 ', 'hco3-               ', 'k+                  ',\n",
      "       'mg+2                ', 'na+                 ', 'o2(aq)              ',\n",
      "       'sio2(aq)            ', 'so4-2               ', 'SMco2               ',\n",
      "       'Porosity            ', 'Permeabi.           ', 'calcite             ',\n",
      "       'quartz              ', 'chlorite            ', 'illite              ',\n",
      "       'albite              ', 'siderite-2          ', 'ankerite            ',\n",
      "       'kaolinite           ', 'magnesite           ', 'dolomite            ',\n",
      "       'smectite-na         ', 'co2(g)              ', 'fugcoe_co2(g)       '],\n",
      "      dtype='object')\n",
      "\n",
      "---Stripping Whitespace---\n",
      "\n",
      "Index(['TIME', 'ELEM', 'INDEX', 'P (Pa)', 'T (deg C)', 'SG', 'SS', 'XNaCl',\n",
      "       'YH2OG', 'XCO2aq', 'PCAP (Pa)', 'k-red', 'DG (kg/m^3)', 'DL (kg/m^3)',\n",
      "       'PER MOD', 'X2', 'X3', 'DX1', 'DX2', 'DX3', 'DX4', 'K(gas)', 'K(liq)',\n",
      "       'VIS(gas)', 'VIS(liq)'],\n",
      "      dtype='object')\n",
      "Index(['TIME', 'ELEM', 'INDEX', 'Sg', 'Sl', 'T', 'pH', 'alo2-', 'ca+2', 'cl-',\n",
      "       'fe+2', 'h+', 'h2o', 'hco3-', 'k+', 'mg+2', 'na+', 'o2(aq)', 'sio2(aq)',\n",
      "       'so4-2', 'SMco2', 'Porosity', 'Permeabi.', 'calcite', 'quartz',\n",
      "       'chlorite', 'illite', 'albite', 'siderite-2', 'ankerite', 'kaolinite',\n",
      "       'magnesite', 'dolomite', 'smectite-na', 'co2(g)', 'fugcoe_co2(g)'],\n",
      "      dtype='object')\n"
     ]
    }
   ],
   "source": [
    "# Whitespace Stripping Function\n",
    "def df_strip(df):\n",
    "  df = df.copy()\n",
    "  for c in df.columns:\n",
    "    df = df.rename(columns={c:c.strip()})\n",
    "  return df\n",
    "\n",
    "# before stripping\n",
    "print(mesh_original.columns)\n",
    "print(react_original.columns)\n",
    "\n",
    "mesh_stripped  = df_strip(mesh_original)\n",
    "react_stripped = df_strip(react_original)\n",
    "print('\\n---Stripping Whitespace---\\n')\n",
    "\n",
    "# after stripping\n",
    "print(mesh_stripped.columns)\n",
    "print(react_stripped.columns)"
   ]
  },
  {
   "cell_type": "markdown",
   "metadata": {},
   "source": [
    ">Remove data that does not relate between the two files."
   ]
  },
  {
   "cell_type": "code",
   "execution_count": 3,
   "metadata": {},
   "outputs": [
    {
     "name": "stdout",
     "output_type": "stream",
     "text": [
      "Unique times before fix: \n",
      "Mesh:  [3.1536e+07 1.0100e+08 1.0200e+08]\n",
      "React:  [0.0000e+00 3.1536e+07 1.0200e+08]\n",
      "Mesh shape:  (75642, 25)\n",
      "React shape:  (75642, 36)\n",
      "\n",
      "Unique times after fix: \n",
      "Mesh:  [3.1536e+07 1.0200e+08]\n",
      "React:  [3.1536e+07 1.0200e+08]\n",
      "Mesh shape:  (75642, 25)\n",
      "React shape:  (75642, 36)\n"
     ]
    }
   ],
   "source": [
    "print(\"Unique times before fix: \\nMesh: \", mesh_stripped.TIME.unique())\n",
    "print(\"React: \", react_stripped.TIME.unique())\n",
    "mesh_stripped = mesh_stripped[(mesh_stripped.TIME == 31536000) | (mesh_stripped.TIME == 102000000)]\n",
    "react_stripped = react_stripped[(react_stripped.TIME == 31536000) | (react_stripped.TIME == 102000000)]\n",
    "print(\"Mesh shape: \", mesh_stripped.shape)\n",
    "print(\"React shape: \", react_stripped.shape)\n",
    "print(\"\\nUnique times after fix: \\nMesh: \",mesh_stripped.TIME.unique())\n",
    "print(\"React: \", react_stripped.TIME.unique())\n",
    "print(\"Mesh shape: \", mesh_stripped.shape)\n",
    "print(\"React shape: \", react_stripped.shape)"
   ]
  },
  {
   "cell_type": "markdown",
   "metadata": {},
   "source": [
    ">Now that they are same shape, save the files."
   ]
  },
  {
   "cell_type": "code",
   "execution_count": 4,
   "metadata": {},
   "outputs": [],
   "source": [
    "# Save the fixed files\n",
    "mesh_stripped.to_csv('../data_files/mesh_fixed.txt')\n",
    "react_stripped.to_csv('../data_files/react_fixed.txt')"
   ]
  },
  {
   "cell_type": "markdown",
   "metadata": {},
   "source": [
    ">Import the fixed files with the Index being `TIME` and `INDEX`"
   ]
  },
  {
   "cell_type": "code",
   "execution_count": 5,
   "metadata": {},
   "outputs": [],
   "source": [
    "# Import as Multi-index\n",
    "mesh  = pd.read_csv(\"../data_files/mesh_fixed.txt\", delimiter=',', index_col=['TIME', 'INDEX'])\n",
    "react = pd.read_csv(\"../data_files/react_fixed.txt\", delimiter=',', index_col=['TIME', 'INDEX'])"
   ]
  },
  {
   "cell_type": "code",
   "execution_count": 9,
   "metadata": {},
   "outputs": [
    {
     "name": "stdout",
     "output_type": "stream",
     "text": [
      "                  Unnamed: 0 ELEM    P (Pa)  T (deg C)       SG  SS    XNaCl  \\\n",
      "TIME       INDEX                                                               \n",
      "31536000.0 1               0  194  15691999  74.978610  0.00214   0  0.00382   \n",
      "           2               1  195  15737867  74.980060  0.00213   0  0.00382   \n",
      "           3               2  196  15782881  74.978423  0.00213   0  0.00382   \n",
      "           4               3  197  15782590  74.980576  0.00213   0  0.00382   \n",
      "           5               4  198  15752166  74.977743  0.00214   0  0.00382   \n",
      "\n",
      "                    YH2OG  XCO2aq  PCAP (Pa)  ...     X2         X3  \\\n",
      "TIME       INDEX                              ...                     \n",
      "31536000.0 1      0.00425  0.0452        0.0  ...  0.004  10.002144   \n",
      "           2      0.00426  0.0452        0.0  ...  0.004  10.002134   \n",
      "           3      0.00426  0.0453        0.0  ...  0.004  10.002129   \n",
      "           4      0.00426  0.0453        0.0  ...  0.004  10.002131   \n",
      "           5      0.00426  0.0452        0.0  ...  0.004  10.002141   \n",
      "\n",
      "                        DX1           DX2           DX3       DX4  K(gas)  \\\n",
      "TIME       INDEX                                                            \n",
      "31536000.0 1      23.635829 -2.580000e-10 -6.660000e-07  0.000021     0.0   \n",
      "           2      30.122794 -2.580000e-10 -6.880000e-07  0.000020     0.0   \n",
      "           3      22.670415 -2.580000e-10 -6.680000e-07  0.000021     0.0   \n",
      "           4      17.981944 -2.580000e-10 -6.560000e-07  0.000018     0.0   \n",
      "           5       7.992938 -2.570000e-10 -6.370000e-07  0.000015     0.0   \n",
      "\n",
      "                  K(liq)  VIS(gas)  VIS(liq)  \n",
      "TIME       INDEX                              \n",
      "31536000.0 1         1.0  0.000037  0.000385  \n",
      "           2         1.0  0.000037  0.000385  \n",
      "           3         1.0  0.000037  0.000385  \n",
      "           4         1.0  0.000037  0.000385  \n",
      "           5         1.0  0.000037  0.000385  \n",
      "\n",
      "[5 rows x 24 columns]\n",
      "                  Unnamed: 0 ELEM       Sg        Sl          T        pH  \\\n",
      "TIME       INDEX                                                            \n",
      "31536000.0 1           37821  194  0.00214  0.997856  74.978610  4.748961   \n",
      "           2           37822  195  0.00213  0.997866  74.980060  4.748289   \n",
      "           3           37823  196  0.00213  0.997871  74.978423  4.747913   \n",
      "           4           37824  197  0.00213  0.997869  74.980576  4.748153   \n",
      "           5           37825  198  0.00214  0.997859  74.977743  4.748209   \n",
      "\n",
      "                         alo2-    ca+2       cl-      fe+2  ...        illite  \\\n",
      "TIME       INDEX                                            ...                 \n",
      "31536000.0 1      5.300000e-09  0.0231  0.000922  0.000426  ... -4.440000e-07   \n",
      "           2      5.300000e-09  0.0231  0.000922  0.000426  ... -4.440000e-07   \n",
      "           3      5.300000e-09  0.0232  0.000922  0.000426  ... -4.440000e-07   \n",
      "           4      5.260000e-09  0.0231  0.000922  0.000426  ... -4.420000e-07   \n",
      "           5      5.300000e-09  0.0231  0.000922  0.000426  ... -4.440000e-07   \n",
      "\n",
      "                    albite  siderite-2  ankerite  kaolinite  magnesite  \\\n",
      "TIME       INDEX                                                         \n",
      "31536000.0 1     -0.000057   -0.000004  0.000019   0.000033          0   \n",
      "           2     -0.000057   -0.000004  0.000019   0.000033          0   \n",
      "           3     -0.000057   -0.000004  0.000019   0.000033          0   \n",
      "           4     -0.000057   -0.000004  0.000020   0.000033          0   \n",
      "           5     -0.000057   -0.000004  0.000019   0.000033          0   \n",
      "\n",
      "                  dolomite   smectite-na     co2(g)  fugcoe_co2(g)  \n",
      "TIME       INDEX                                                    \n",
      "31536000.0 1             0  6.020000e-08  155.30106       0.597858  \n",
      "           2             0  6.030000e-08  155.75165       0.597055  \n",
      "           3             0  6.030000e-08  156.19394       0.596264  \n",
      "           4             0  6.160000e-08  156.19101       0.596278  \n",
      "           5             0  6.030000e-08  155.89221       0.596796  \n",
      "\n",
      "[5 rows x 35 columns]\n"
     ]
    }
   ],
   "source": [
    "print(mesh.head())\n",
    "print(react.head())"
   ]
  },
  {
   "cell_type": "code",
   "execution_count": 6,
   "metadata": {},
   "outputs": [
    {
     "name": "stdout",
     "output_type": "stream",
     "text": [
      "                 ELEM    P (Pa)  T (deg C)       SG  SS    XNaCl    YH2OG  \\\n",
      "TIME       INDEX                                                            \n",
      "31536000.0 1      194  15691999  74.978610  0.00214   0  0.00382  0.00425   \n",
      "           2      195  15737867  74.980060  0.00213   0  0.00382  0.00426   \n",
      "           3      196  15782881  74.978423  0.00213   0  0.00382  0.00426   \n",
      "           4      197  15782590  74.980576  0.00213   0  0.00382  0.00426   \n",
      "           5      198  15752166  74.977743  0.00214   0  0.00382  0.00426   \n",
      "\n",
      "                  XCO2aq  PCAP (Pa)  k-red  ...     X2         X3        DX1  \\\n",
      "TIME       INDEX                            ...                                \n",
      "31536000.0 1      0.0452        0.0      1  ...  0.004  10.002144  23.635829   \n",
      "           2      0.0452        0.0      1  ...  0.004  10.002134  30.122794   \n",
      "           3      0.0453        0.0      1  ...  0.004  10.002129  22.670415   \n",
      "           4      0.0453        0.0      1  ...  0.004  10.002131  17.981944   \n",
      "           5      0.0452        0.0      1  ...  0.004  10.002141   7.992938   \n",
      "\n",
      "                           DX2           DX3       DX4  K(gas)  K(liq)  \\\n",
      "TIME       INDEX                                                         \n",
      "31536000.0 1     -2.580000e-10 -6.660000e-07  0.000021     0.0     1.0   \n",
      "           2     -2.580000e-10 -6.880000e-07  0.000020     0.0     1.0   \n",
      "           3     -2.580000e-10 -6.680000e-07  0.000021     0.0     1.0   \n",
      "           4     -2.580000e-10 -6.560000e-07  0.000018     0.0     1.0   \n",
      "           5     -2.570000e-10 -6.370000e-07  0.000015     0.0     1.0   \n",
      "\n",
      "                  VIS(gas)  VIS(liq)  \n",
      "TIME       INDEX                      \n",
      "31536000.0 1      0.000037  0.000385  \n",
      "           2      0.000037  0.000385  \n",
      "           3      0.000037  0.000385  \n",
      "           4      0.000037  0.000385  \n",
      "           5      0.000037  0.000385  \n",
      "\n",
      "[5 rows x 23 columns]\n",
      "                 ELEM       Sg        Sl          T        pH         alo2-  \\\n",
      "TIME       INDEX                                                              \n",
      "31536000.0 1      194  0.00214  0.997856  74.978610  4.748961  5.300000e-09   \n",
      "           2      195  0.00213  0.997866  74.980060  4.748289  5.300000e-09   \n",
      "           3      196  0.00213  0.997871  74.978423  4.747913  5.300000e-09   \n",
      "           4      197  0.00213  0.997869  74.980576  4.748153  5.260000e-09   \n",
      "           5      198  0.00214  0.997859  74.977743  4.748209  5.300000e-09   \n",
      "\n",
      "                    ca+2       cl-      fe+2        h+  ...        illite  \\\n",
      "TIME       INDEX                                        ...                 \n",
      "31536000.0 1      0.0231  0.000922  0.000426  1.228326  ... -4.440000e-07   \n",
      "           2      0.0231  0.000922  0.000426  1.231349  ... -4.440000e-07   \n",
      "           3      0.0232  0.000922  0.000426  1.232983  ... -4.440000e-07   \n",
      "           4      0.0231  0.000922  0.000426  1.232764  ... -4.420000e-07   \n",
      "           5      0.0231  0.000922  0.000426  1.231697  ... -4.440000e-07   \n",
      "\n",
      "                    albite  siderite-2  ankerite  kaolinite  magnesite  \\\n",
      "TIME       INDEX                                                         \n",
      "31536000.0 1     -0.000057   -0.000004  0.000019   0.000033          0   \n",
      "           2     -0.000057   -0.000004  0.000019   0.000033          0   \n",
      "           3     -0.000057   -0.000004  0.000019   0.000033          0   \n",
      "           4     -0.000057   -0.000004  0.000020   0.000033          0   \n",
      "           5     -0.000057   -0.000004  0.000019   0.000033          0   \n",
      "\n",
      "                  dolomite   smectite-na     co2(g)  fugcoe_co2(g)  \n",
      "TIME       INDEX                                                    \n",
      "31536000.0 1             0  6.020000e-08  155.30106       0.597858  \n",
      "           2             0  6.030000e-08  155.75165       0.597055  \n",
      "           3             0  6.030000e-08  156.19394       0.596264  \n",
      "           4             0  6.160000e-08  156.19101       0.596278  \n",
      "           5             0  6.030000e-08  155.89221       0.596796  \n",
      "\n",
      "[5 rows x 34 columns]\n"
     ]
    }
   ],
   "source": [
    "# Drop Unamed columns\n",
    "mesh = mesh.drop('Unnamed: 0', 1)\n",
    "react = react.drop('Unnamed: 0', 1)\n",
    "# display change\n",
    "print(mesh.head())\n",
    "print(react.head())"
   ]
  },
  {
   "cell_type": "markdown",
   "metadata": {},
   "source": [
    "---\n",
    "### Merge the Data Frames"
   ]
  },
  {
   "cell_type": "markdown",
   "metadata": {},
   "source": [
    "The Mesh and React are now ready to be merged."
   ]
  },
  {
   "cell_type": "code",
   "execution_count": 7,
   "metadata": {},
   "outputs": [
    {
     "name": "stdout",
     "output_type": "stream",
     "text": [
      "                 ELEM_x    P (Pa)  T (deg C)       SG  SS    XNaCl    YH2OG  \\\n",
      "TIME       INDEX                                                              \n",
      "31536000.0 1        194  15691999  74.978610  0.00214   0  0.00382  0.00425   \n",
      "           2        195  15737867  74.980060  0.00213   0  0.00382  0.00426   \n",
      "           3        196  15782881  74.978423  0.00213   0  0.00382  0.00426   \n",
      "           4        197  15782590  74.980576  0.00213   0  0.00382  0.00426   \n",
      "           5        198  15752166  74.977743  0.00214   0  0.00382  0.00426   \n",
      "\n",
      "                  XCO2aq  PCAP (Pa)  k-red  ...        illite    albite  \\\n",
      "TIME       INDEX                            ...                           \n",
      "31536000.0 1      0.0452        0.0      1  ... -4.440000e-07 -0.000057   \n",
      "           2      0.0452        0.0      1  ... -4.440000e-07 -0.000057   \n",
      "           3      0.0453        0.0      1  ... -4.440000e-07 -0.000057   \n",
      "           4      0.0453        0.0      1  ... -4.420000e-07 -0.000057   \n",
      "           5      0.0452        0.0      1  ... -4.440000e-07 -0.000057   \n",
      "\n",
      "                  siderite-2  ankerite  kaolinite  magnesite  dolomite  \\\n",
      "TIME       INDEX                                                         \n",
      "31536000.0 1       -0.000004  0.000019   0.000033          0         0   \n",
      "           2       -0.000004  0.000019   0.000033          0         0   \n",
      "           3       -0.000004  0.000019   0.000033          0         0   \n",
      "           4       -0.000004  0.000020   0.000033          0         0   \n",
      "           5       -0.000004  0.000019   0.000033          0         0   \n",
      "\n",
      "                   smectite-na     co2(g)  fugcoe_co2(g)  \n",
      "TIME       INDEX                                          \n",
      "31536000.0 1      6.020000e-08  155.30106       0.597858  \n",
      "           2      6.030000e-08  155.75165       0.597055  \n",
      "           3      6.030000e-08  156.19394       0.596264  \n",
      "           4      6.160000e-08  156.19101       0.596278  \n",
      "           5      6.030000e-08  155.89221       0.596796  \n",
      "\n",
      "[5 rows x 57 columns]\n",
      "Index(['ELEM_x', 'P (Pa)', 'T (deg C)', 'SG', 'SS', 'XNaCl', 'YH2OG', 'XCO2aq',\n",
      "       'PCAP (Pa)', 'k-red', 'DG (kg/m^3)', 'DL (kg/m^3)', 'PER MOD', 'X2',\n",
      "       'X3', 'DX1', 'DX2', 'DX3', 'DX4', 'K(gas)', 'K(liq)', 'VIS(gas)',\n",
      "       'VIS(liq)', 'ELEM_y', 'Sg', 'Sl', 'T', 'pH', 'alo2-', 'ca+2', 'cl-',\n",
      "       'fe+2', 'h+', 'h2o', 'hco3-', 'k+', 'mg+2', 'na+', 'o2(aq)', 'sio2(aq)',\n",
      "       'so4-2', 'SMco2', 'Porosity', 'Permeabi.', 'calcite', 'quartz',\n",
      "       'chlorite', 'illite', 'albite', 'siderite-2', 'ankerite', 'kaolinite',\n",
      "       'magnesite', 'dolomite', 'smectite-na', 'co2(g)', 'fugcoe_co2(g)'],\n",
      "      dtype='object')\n",
      "<class 'pandas.core.frame.DataFrame'>\n",
      "MultiIndex: 75642 entries, (31536000.0, 1) to (102000000.0, 37821)\n",
      "Data columns (total 57 columns):\n",
      "ELEM_x           75642 non-null object\n",
      "P (Pa)           75642 non-null int64\n",
      "T (deg C)        75642 non-null float64\n",
      "SG               75642 non-null float64\n",
      "SS               75642 non-null int64\n",
      "XNaCl            75642 non-null float64\n",
      "YH2OG            75642 non-null float64\n",
      "XCO2aq           75642 non-null float64\n",
      "PCAP (Pa)        75642 non-null float64\n",
      "k-red            75642 non-null int64\n",
      "DG (kg/m^3)      75642 non-null float64\n",
      "DL (kg/m^3)      75642 non-null float64\n",
      "PER MOD          75642 non-null int64\n",
      "X2               75642 non-null float64\n",
      "X3               75642 non-null float64\n",
      "DX1              75642 non-null float64\n",
      "DX2              75642 non-null float64\n",
      "DX3              75642 non-null float64\n",
      "DX4              75642 non-null float64\n",
      "K(gas)           75642 non-null float64\n",
      "K(liq)           75642 non-null float64\n",
      "VIS(gas)         75642 non-null float64\n",
      "VIS(liq)         75642 non-null float64\n",
      "ELEM_y           75642 non-null object\n",
      "Sg               75642 non-null float64\n",
      "Sl               75642 non-null float64\n",
      "T                75642 non-null float64\n",
      "pH               75642 non-null float64\n",
      "alo2-            75642 non-null float64\n",
      "ca+2             75642 non-null float64\n",
      "cl-              75642 non-null float64\n",
      "fe+2             75642 non-null float64\n",
      "h+               75642 non-null float64\n",
      "h2o              75642 non-null float64\n",
      "hco3-            75642 non-null float64\n",
      "k+               75642 non-null float64\n",
      "mg+2             75642 non-null float64\n",
      "na+              75642 non-null float64\n",
      "o2(aq)           75642 non-null float64\n",
      "sio2(aq)         75642 non-null float64\n",
      "so4-2            75642 non-null float64\n",
      "SMco2            75642 non-null float64\n",
      "Porosity         75642 non-null float64\n",
      "Permeabi.        75642 non-null float64\n",
      "calcite          75642 non-null float64\n",
      "quartz           75642 non-null float64\n",
      "chlorite         75642 non-null float64\n",
      "illite           75642 non-null float64\n",
      "albite           75642 non-null float64\n",
      "siderite-2       75642 non-null float64\n",
      "ankerite         75642 non-null float64\n",
      "kaolinite        75642 non-null float64\n",
      "magnesite        75642 non-null int64\n",
      "dolomite         75642 non-null int64\n",
      "smectite-na      75642 non-null float64\n",
      "co2(g)           75642 non-null float64\n",
      "fugcoe_co2(g)    75642 non-null float64\n",
      "dtypes: float64(49), int64(6), object(2)\n",
      "memory usage: 33.5+ MB\n",
      "None\n",
      "(75642, 57)\n"
     ]
    }
   ],
   "source": [
    "mesh_react = pd.merge(mesh, react, how='left', on=['TIME', 'INDEX'])\n",
    "print(mesh_react.head())\n",
    "print(mesh_react.columns)\n",
    "print(mesh_react.info())\n",
    "print(mesh_react.shape)"
   ]
  },
  {
   "cell_type": "markdown",
   "metadata": {},
   "source": [
    "---  \n",
    "### Data is now merged"
   ]
  },
  {
   "cell_type": "markdown",
   "metadata": {},
   "source": [
    "Save updated data to a new file called mesh_react.csv"
   ]
  },
  {
   "cell_type": "code",
   "execution_count": 20,
   "metadata": {},
   "outputs": [],
   "source": [
    "#uncomment below to remove the Unnamed columns\n",
    "mesh_react.drop(['Unnamed: 0_x', 'Unnamed: 0_y'], axis=1)\n",
    "mesh_react.to_csv('../data_files/mesh_react.csv')"
   ]
  },
  {
   "cell_type": "markdown",
   "metadata": {},
   "source": [
    "---\n",
    "### Clean Data"
   ]
  },
  {
   "cell_type": "markdown",
   "metadata": {},
   "source": [
    ">Inspect for columns that contain all 0s or NAN"
   ]
  },
  {
   "cell_type": "code",
   "execution_count": 8,
   "metadata": {},
   "outputs": [
    {
     "name": "stdout",
     "output_type": "stream",
     "text": [
      "SS  Sum:  0\n",
      "PER MOD  Sum:  0\n",
      "magnesite  Sum:  0\n",
      "dolomite  Sum:  0\n"
     ]
    }
   ],
   "source": [
    "# loop through columns checking the sum of the column\n",
    "for col in mesh_react.columns :\n",
    "    if np.sum(mesh_react[col]) == 0 :\n",
    "        print(col, \" Sum: \", np.sum(mesh_react[col]))"
   ]
  },
  {
   "cell_type": "markdown",
   "metadata": {},
   "source": [
    ">The 3 columns SS, PER MOD, magnesite, and dolomite all appear to have 0 for values.  As a result, those columns will be dropped."
   ]
  },
  {
   "cell_type": "code",
   "execution_count": 22,
   "metadata": {
    "scrolled": true
   },
   "outputs": [
    {
     "name": "stdout",
     "output_type": "stream",
     "text": [
      "Index(['Unnamed: 0_x', 'ELEM_x', 'P (Pa)', 'T (deg C)', 'SG', 'XNaCl', 'YH2OG',\n",
      "       'XCO2aq', 'PCAP (Pa)', 'k-red', 'DG (kg/m^3)', 'DL (kg/m^3)', 'X2',\n",
      "       'X3', 'DX1', 'DX2', 'DX3', 'DX4', 'K(gas)', 'K(liq)', 'VIS(gas)',\n",
      "       'VIS(liq)', 'Unnamed: 0_y', 'ELEM_y', 'Sg', 'Sl', 'T', 'pH', 'alo2-',\n",
      "       'ca+2', 'cl-', 'fe+2', 'h+', 'h2o', 'hco3-', 'k+', 'mg+2', 'na+',\n",
      "       'o2(aq)', 'sio2(aq)', 'so4-2', 'SMco2', 'Porosity', 'Permeabi.',\n",
      "       'calcite', 'quartz', 'chlorite', 'illite', 'albite', 'siderite-2',\n",
      "       'ankerite', 'kaolinite', 'smectite-na', 'co2(g)', 'fugcoe_co2(g)'],\n",
      "      dtype='object')\n"
     ]
    }
   ],
   "source": [
    "# Drop the 4 columns listed above\n",
    "#mesh_react = mesh_react.drop(['SS', 'PER MOD', 'magnesite', 'dolomite'], axis=1)\n",
    "#print(mesh_react.columns)"
   ]
  },
  {
   "cell_type": "markdown",
   "metadata": {},
   "source": [
    "> fix the columns that are considered objects"
   ]
  },
  {
   "cell_type": "code",
   "execution_count": 9,
   "metadata": {},
   "outputs": [
    {
     "name": "stdout",
     "output_type": "stream",
     "text": [
      "TIME         INDEX\n",
      "31536000.0   1          194\n",
      "             2          195\n",
      "             3          196\n",
      "             4          197\n",
      "             5          198\n",
      "             6          199\n",
      "             7          200\n",
      "             8          201\n",
      "             9          202\n",
      "             10         203\n",
      "             11         204\n",
      "             12         205\n",
      "             13         206\n",
      "             14         207\n",
      "             15         208\n",
      "             16         209\n",
      "             17         210\n",
      "             18         211\n",
      "             19         286\n",
      "             20         287\n",
      "             21         288\n",
      "             22         289\n",
      "             23         290\n",
      "             24         291\n",
      "             25         292\n",
      "             26         293\n",
      "             27         294\n",
      "             28         295\n",
      "             29         296\n",
      "             30         297\n",
      "                      ...  \n",
      "102000000.0  37792    61491\n",
      "             37793    61492\n",
      "             37794    61493\n",
      "             37795    61494\n",
      "             37796    61495\n",
      "             37797    61496\n",
      "             37798    61497\n",
      "             37799    61498\n",
      "             37800    61499\n",
      "             37801    61500\n",
      "             37802    61501\n",
      "             37803    61502\n",
      "             37804    61503\n",
      "             37805    61504\n",
      "             37806    61505\n",
      "             37807    61506\n",
      "             37808    61507\n",
      "             37809    61508\n",
      "             37810    61509\n",
      "             37811    61510\n",
      "             37812    61511\n",
      "             37813    61512\n",
      "             37814    61513\n",
      "             37815    61514\n",
      "             37816    61515\n",
      "             37817    61516\n",
      "             37818    61517\n",
      "             37819    61518\n",
      "             37820    61519\n",
      "             37821    61520\n",
      "Name: ELEM_x, Length: 75642, dtype: int64\n",
      "TIME         INDEX\n",
      "31536000.0   1          194\n",
      "             2          195\n",
      "             3          196\n",
      "             4          197\n",
      "             5          198\n",
      "             6          199\n",
      "             7          200\n",
      "             8          201\n",
      "             9          202\n",
      "             10         203\n",
      "             11         204\n",
      "             12         205\n",
      "             13         206\n",
      "             14         207\n",
      "             15         208\n",
      "             16         209\n",
      "             17         210\n",
      "             18         211\n",
      "             19         286\n",
      "             20         287\n",
      "             21         288\n",
      "             22         289\n",
      "             23         290\n",
      "             24         291\n",
      "             25         292\n",
      "             26         293\n",
      "             27         294\n",
      "             28         295\n",
      "             29         296\n",
      "             30         297\n",
      "                      ...  \n",
      "102000000.0  37792    61491\n",
      "             37793    61492\n",
      "             37794    61493\n",
      "             37795    61494\n",
      "             37796    61495\n",
      "             37797    61496\n",
      "             37798    61497\n",
      "             37799    61498\n",
      "             37800    61499\n",
      "             37801    61500\n",
      "             37802    61501\n",
      "             37803    61502\n",
      "             37804    61503\n",
      "             37805    61504\n",
      "             37806    61505\n",
      "             37807    61506\n",
      "             37808    61507\n",
      "             37809    61508\n",
      "             37810    61509\n",
      "             37811    61510\n",
      "             37812    61511\n",
      "             37813    61512\n",
      "             37814    61513\n",
      "             37815    61514\n",
      "             37816    61515\n",
      "             37817    61516\n",
      "             37818    61517\n",
      "             37819    61518\n",
      "             37820    61519\n",
      "             37821    61520\n",
      "Name: ELEM_y, Length: 75642, dtype: int64\n"
     ]
    }
   ],
   "source": [
    "# Data contained spaces in values(199, 2 0, 2 1, etc.)\n",
    "mesh_react.ELEM_x = mesh_react.ELEM_x.str.strip()\n",
    "mesh_react.ELEM_x = mesh_react.ELEM_x.str.replace(' ', '0')\n",
    "mesh_react.ELEM_x = pd.to_numeric(mesh_react.ELEM_x, errors='coerce')\n",
    "print(mesh_react.ELEM_x)\n",
    "\n",
    "\n",
    "mesh_react.ELEM_y = mesh_react.ELEM_y.str.strip()\n",
    "mesh_react.ELEM_y = mesh_react.ELEM_y.str.replace(' ', '0')\n",
    "mesh_react.ELEM_y = pd.to_numeric(mesh_react.ELEM_y, errors='coerce')\n",
    "print(mesh_react.ELEM_y)"
   ]
  },
  {
   "cell_type": "code",
   "execution_count": 11,
   "metadata": {},
   "outputs": [
    {
     "name": "stdout",
     "output_type": "stream",
     "text": [
      "Index(['ELEM_x', 'P (Pa)', 'T (deg C)', 'SG', 'SS', 'XNaCl', 'YH2OG', 'XCO2aq',\n",
      "       'PCAP (Pa)', 'k-red', 'DG (kg/m^3)', 'DL (kg/m^3)', 'PER MOD', 'X2',\n",
      "       'X3', 'DX1', 'DX2', 'DX3', 'DX4', 'K(gas)', 'K(liq)', 'VIS(gas)',\n",
      "       'VIS(liq)', 'ELEM_y', 'Sg', 'Sl', 'T', 'pH', 'alo2-', 'ca+2', 'cl-',\n",
      "       'fe+2', 'h+', 'h2o', 'hco3-', 'k+', 'mg+2', 'na+', 'o2(aq)', 'sio2(aq)',\n",
      "       'so4-2', 'SMco2', 'Porosity', 'Permeabi.', 'calcite', 'quartz',\n",
      "       'chlorite', 'illite', 'albite', 'siderite-2', 'ankerite', 'kaolinite',\n",
      "       'magnesite', 'dolomite', 'smectite-na', 'co2(g)', 'fugcoe_co2(g)'],\n",
      "      dtype='object')\n"
     ]
    }
   ],
   "source": []
  },
  {
   "cell_type": "code",
   "execution_count": 12,
   "metadata": {},
   "outputs": [
    {
     "name": "stdout",
     "output_type": "stream",
     "text": [
      "                  ELEM_x    P (Pa)  T (deg C)       SG  SS    XNaCl    YH2OG  \\\n",
      "TIME       INDEX                                                               \n",
      "31536000.0 1         194  15691999  74.978610  0.00214   0  0.00382  0.00425   \n",
      "           2         195  15737867  74.980060  0.00213   0  0.00382  0.00426   \n",
      "           3         196  15782881  74.978423  0.00213   0  0.00382  0.00426   \n",
      "           4         197  15782590  74.980576  0.00213   0  0.00382  0.00426   \n",
      "           5         198  15752166  74.977743  0.00214   0  0.00382  0.00426   \n",
      "\n",
      "                  XCO2aq  PCAP (Pa)  k-red  ...        illite    albite  \\\n",
      "TIME       INDEX                            ...                           \n",
      "31536000.0 1      0.0452        0.0      1  ... -4.440000e-07 -0.000057   \n",
      "           2      0.0452        0.0      1  ... -4.440000e-07 -0.000057   \n",
      "           3      0.0453        0.0      1  ... -4.440000e-07 -0.000057   \n",
      "           4      0.0453        0.0      1  ... -4.420000e-07 -0.000057   \n",
      "           5      0.0452        0.0      1  ... -4.440000e-07 -0.000057   \n",
      "\n",
      "                  siderite-2  ankerite  kaolinite  magnesite  dolomite  \\\n",
      "TIME       INDEX                                                         \n",
      "31536000.0 1       -0.000004  0.000019   0.000033          0         0   \n",
      "           2       -0.000004  0.000019   0.000033          0         0   \n",
      "           3       -0.000004  0.000019   0.000033          0         0   \n",
      "           4       -0.000004  0.000020   0.000033          0         0   \n",
      "           5       -0.000004  0.000019   0.000033          0         0   \n",
      "\n",
      "                   smectite-na     co2(g)  fugcoe_co2(g)  \n",
      "TIME       INDEX                                          \n",
      "31536000.0 1      6.020000e-08  155.30106       0.597858  \n",
      "           2      6.030000e-08  155.75165       0.597055  \n",
      "           3      6.030000e-08  156.19394       0.596264  \n",
      "           4      6.160000e-08  156.19101       0.596278  \n",
      "           5      6.030000e-08  155.89221       0.596796  \n",
      "\n",
      "[5 rows x 57 columns]\n"
     ]
    }
   ],
   "source": [
    "print(mesh_react.head())"
   ]
  },
  {
   "cell_type": "code",
   "execution_count": 13,
   "metadata": {},
   "outputs": [
    {
     "name": "stdout",
     "output_type": "stream",
     "text": [
      "Index(['ELEM_x', 'P (Pa)', 'T (deg C)', 'SG', 'SS', 'XNaCl', 'YH2OG', 'XCO2aq',\n",
      "       'PCAP (Pa)', 'k-red', 'DG (kg/m^3)', 'DL (kg/m^3)', 'PER MOD', 'X2',\n",
      "       'X3', 'DX1', 'DX2', 'DX3', 'DX4', 'K(gas)', 'K(liq)', 'VIS(gas)',\n",
      "       'VIS(liq)', 'ELEM_y', 'Sg', 'Sl', 'T', 'pH', 'alo2-', 'ca+2', 'cl-',\n",
      "       'fe+2', 'h+', 'h2o', 'hco3-', 'k+', 'mg+2', 'na+', 'o2(aq)', 'sio2(aq)',\n",
      "       'so4-2', 'SMco2', 'Porosity', 'Permeabi.', 'calcite', 'quartz',\n",
      "       'chlorite', 'illite', 'albite', 'siderite-2', 'ankerite', 'kaolinite',\n",
      "       'magnesite', 'dolomite', 'smectite-na', 'co2(g)', 'fugcoe_co2(g)'],\n",
      "      dtype='object')\n"
     ]
    }
   ],
   "source": [
    "print(mesh_react.columns)"
   ]
  },
  {
   "cell_type": "code",
   "execution_count": 15,
   "metadata": {},
   "outputs": [
    {
     "name": "stdout",
     "output_type": "stream",
     "text": [
      "TIME         INDEX\n",
      "31536000.0   1          194\n",
      "             2          195\n",
      "             3          196\n",
      "             4          197\n",
      "             5          198\n",
      "             6          199\n",
      "             7          200\n",
      "             8          201\n",
      "             9          202\n",
      "             10         203\n",
      "             11         204\n",
      "             12         205\n",
      "             13         206\n",
      "             14         207\n",
      "             15         208\n",
      "             16         209\n",
      "             17         210\n",
      "             18         211\n",
      "             19         286\n",
      "             20         287\n",
      "             21         288\n",
      "             22         289\n",
      "             23         290\n",
      "             24         291\n",
      "             25         292\n",
      "             26         293\n",
      "             27         294\n",
      "             28         295\n",
      "             29         296\n",
      "             30         297\n",
      "                      ...  \n",
      "102000000.0  37792    61491\n",
      "             37793    61492\n",
      "             37794    61493\n",
      "             37795    61494\n",
      "             37796    61495\n",
      "             37797    61496\n",
      "             37798    61497\n",
      "             37799    61498\n",
      "             37800    61499\n",
      "             37801    61500\n",
      "             37802    61501\n",
      "             37803    61502\n",
      "             37804    61503\n",
      "             37805    61504\n",
      "             37806    61505\n",
      "             37807    61506\n",
      "             37808    61507\n",
      "             37809    61508\n",
      "             37810    61509\n",
      "             37811    61510\n",
      "             37812    61511\n",
      "             37813    61512\n",
      "             37814    61513\n",
      "             37815    61514\n",
      "             37816    61515\n",
      "             37817    61516\n",
      "             37818    61517\n",
      "             37819    61518\n",
      "             37820    61519\n",
      "             37821    61520\n",
      "Name: ELEM_x, Length: 75642, dtype: int64 TIME         INDEX\n",
      "31536000.0   1          194\n",
      "             2          195\n",
      "             3          196\n",
      "             4          197\n",
      "             5          198\n",
      "             6          199\n",
      "             7          200\n",
      "             8          201\n",
      "             9          202\n",
      "             10         203\n",
      "             11         204\n",
      "             12         205\n",
      "             13         206\n",
      "             14         207\n",
      "             15         208\n",
      "             16         209\n",
      "             17         210\n",
      "             18         211\n",
      "             19         286\n",
      "             20         287\n",
      "             21         288\n",
      "             22         289\n",
      "             23         290\n",
      "             24         291\n",
      "             25         292\n",
      "             26         293\n",
      "             27         294\n",
      "             28         295\n",
      "             29         296\n",
      "             30         297\n",
      "                      ...  \n",
      "102000000.0  37792    61491\n",
      "             37793    61492\n",
      "             37794    61493\n",
      "             37795    61494\n",
      "             37796    61495\n",
      "             37797    61496\n",
      "             37798    61497\n",
      "             37799    61498\n",
      "             37800    61499\n",
      "             37801    61500\n",
      "             37802    61501\n",
      "             37803    61502\n",
      "             37804    61503\n",
      "             37805    61504\n",
      "             37806    61505\n",
      "             37807    61506\n",
      "             37808    61507\n",
      "             37809    61508\n",
      "             37810    61509\n",
      "             37811    61510\n",
      "             37812    61511\n",
      "             37813    61512\n",
      "             37814    61513\n",
      "             37815    61514\n",
      "             37816    61515\n",
      "             37817    61516\n",
      "             37818    61517\n",
      "             37819    61518\n",
      "             37820    61519\n",
      "             37821    61520\n",
      "Name: ELEM_y, Length: 75642, dtype: int64\n"
     ]
    }
   ],
   "source": [
    "print(mesh_react.ELEM_x, mesh_react.ELEM_y)"
   ]
  },
  {
   "cell_type": "code",
   "execution_count": 17,
   "metadata": {},
   "outputs": [],
   "source": [
    "mesh_react.to_csv('../data_files/cleaned_mesh_react.txt')"
   ]
  }
 ],
 "metadata": {
  "kernelspec": {
   "display_name": "Python 3",
   "language": "python",
   "name": "python3"
  },
  "language_info": {
   "codemirror_mode": {
    "name": "ipython",
    "version": 3
   },
   "file_extension": ".py",
   "mimetype": "text/x-python",
   "name": "python",
   "nbconvert_exporter": "python",
   "pygments_lexer": "ipython3",
   "version": "3.7.3"
  }
 },
 "nbformat": 4,
 "nbformat_minor": 2
}
