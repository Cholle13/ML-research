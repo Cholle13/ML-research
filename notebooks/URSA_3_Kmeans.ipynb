{
 "cells": [
  {
   "cell_type": "markdown",
   "metadata": {},
   "source": [
    "# K-means Clustering\n",
    "Notes:  \n",
    "- The TIME column contains the time in seconds.  \n",
    "  - 31536000 seconds = 1 year  \n",
    "- ELEM_X and ELEM_Y are equivalent"
   ]
  },
  {
   "cell_type": "code",
   "execution_count": 2,
   "metadata": {
    "scrolled": true
   },
   "outputs": [
    {
     "name": "stdout",
     "output_type": "stream",
     "text": [
      "Shape:  (75642, 57) \n",
      "\n",
      "Columns:  Index(['ELEM_x', 'P (Pa)', 'T (deg C)', 'SG', 'SS', 'XNaCl', 'YH2OG', 'XCO2aq',\n",
      "       'PCAP (Pa)', 'k-red', 'DG (kg/m^3)', 'DL (kg/m^3)', 'PER MOD', 'X2',\n",
      "       'X3', 'DX1', 'DX2', 'DX3', 'DX4', 'K(gas)', 'K(liq)', 'VIS(gas)',\n",
      "       'VIS(liq)', 'ELEM_y', 'Sg', 'Sl', 'T', 'pH', 'alo2-', 'ca+2', 'cl-',\n",
      "       'fe+2', 'h+', 'h2o', 'hco3-', 'k+', 'mg+2', 'na+', 'o2(aq)', 'sio2(aq)',\n",
      "       'so4-2', 'SMco2', 'Porosity', 'Permeabi.', 'calcite', 'quartz',\n",
      "       'chlorite', 'illite', 'albite', 'siderite-2', 'ankerite', 'kaolinite',\n",
      "       'magnesite', 'dolomite', 'smectite-na', 'co2(g)', 'fugcoe_co2(g)'],\n",
      "      dtype='object')\n",
      "True\n",
      "False\n"
     ]
    }
   ],
   "source": [
    "import pandas as pd\n",
    "import numpy as np\n",
    "import matplotlib.pyplot as plt\n",
    "from sklearn.cluster import KMeans\n",
    "\n",
    "data = pd.read_csv(\"../data_files/cleaned_mesh_react.txt\", delimiter=',', index_col=['TIME', 'INDEX'])\n",
    "print('Shape: ', data.shape, '\\n\\nColumns: ', data.columns)\n",
    "\n",
    "# Clean negative values\n",
    "print(np.any(data < 0))\n",
    "data[data<0] = 0.000001\n",
    "print(np.any(data < 0))"
   ]
  },
  {
   "cell_type": "markdown",
   "metadata": {},
   "source": [
    "## K-means with data set to 2 dimensions"
   ]
  },
  {
   "cell_type": "code",
   "execution_count": 3,
   "metadata": {},
   "outputs": [],
   "source": [
    "inertias = []\n",
    "ks = range(1,20)\n",
    "for k in ks :\n",
    "    kmeans = KMeans(n_clusters=k, random_state=0).fit(data)\n",
    "    inertias.append(kmeans.inertia_)"
   ]
  },
  {
   "cell_type": "code",
   "execution_count": 4,
   "metadata": {},
   "outputs": [
    {
     "data": {
      "image/png": "[encoded data removed]",
      "text/plain": [
       "<Figure size 432x288 with 1 Axes>"
      ]
     },
     "metadata": {
      "needs_background": "light"
     },
     "output_type": "display_data"
    }
   ],
   "source": [
    "plt.plot(ks, inertias, '-o')\n",
    "plt.xlabel('Number of clusers: k')\n",
    "plt.ylabel('Inertia')\n",
    "plt.xticks(ks)\n",
    "plt.show()"
   ]
  },
  {
   "cell_type": "markdown",
   "metadata": {},
   "source": [
    "From the graph, it seems that 4 or 5 clusters would be the best."
   ]
  },
  {
   "cell_type": "code",
   "execution_count": 7,
   "metadata": {},
   "outputs": [
    {
     "name": "stdout",
     "output_type": "stream",
     "text": [
      "[2 2 2 ... 3 3 3]\n",
      "[[ 2.90657697e+04  1.54182046e+07  7.49818928e+01  1.69250660e-03\n",
      "   0.00000000e+00  3.82194751e-03  4.11284830e-03  4.40560621e-02\n",
      "   2.34317467e-09  1.00000000e+00  4.12705146e+02  9.93346432e+02\n",
      "   0.00000000e+00  3.99825333e-03  8.55127593e+00  2.88922751e+02\n",
      "   9.54216273e-07  2.86941950e-06  1.88706025e-05  5.11623855e-05\n",
      "   9.98056741e-01  1.45642434e-01  3.85007297e-04  2.90657697e+04\n",
      "   1.69250660e-03  9.98307485e-01  7.49818928e+01  5.28698558e+00\n",
      "   1.44019910e-08  1.65626878e-02  9.28578296e-04  3.27266093e-04\n",
      "   8.90398956e-01  5.49901707e+01  9.42548541e-01  7.86892835e-06\n",
      "   6.21881670e-05  1.92144607e-02  5.58823659e-05  5.32362416e-03\n",
      "   2.41111870e-06  4.26636376e-03  1.49688561e-01  8.47973129e-14\n",
      "   1.92314859e-06  2.71714078e-05  2.57241406e-06  8.03508122e-07\n",
      "   9.39947781e-07  1.66920941e-06  5.36752470e-05  5.75827775e-05\n",
      "   0.00000000e+00  0.00000000e+00  5.18003474e-07  1.20480049e+02\n",
      "   6.60194872e-01]\n",
      " [ 2.91994295e+04  1.65380106e+07  7.46397702e+01  4.30318845e-02\n",
      "   0.00000000e+00  3.82136478e-03  4.22370927e-03  4.48889269e-02\n",
      "   2.19412167e-07  1.00000000e+00  1.66099367e+02  9.94175394e+02\n",
      "   0.00000000e+00  3.99957849e-03  3.15180854e+00  1.99485771e+03\n",
      "   6.46904684e-07  2.28766402e-02  2.96502830e-04  7.16517038e-03\n",
      "   8.25501094e-01  6.92197556e-01  3.87757348e-04  2.91994295e+04\n",
      "   4.30318845e-02  9.56968016e-01  7.46397702e+01  5.55797651e+00\n",
      "   6.24079289e-09  9.45257683e-03  9.34204147e-04  1.64834328e-04\n",
      "   4.73948788e-01  5.53600939e+01  5.16970598e-01  3.19587305e-06\n",
      "   3.52098618e-05  2.46681537e-02  5.62303714e-05  4.61808590e-03\n",
      "   2.42670540e-06  5.15374823e-03  1.73171819e-01  5.52056188e-14\n",
      "   2.72447710e-05  2.19792395e-05  3.08345359e-05  4.24097395e-07\n",
      "   1.00000000e-06  1.51748799e-05  1.77361284e-05  3.56343190e-05\n",
      "   0.00000000e+00  0.00000000e+00  6.80443688e-07  4.96991127e+01\n",
      "   8.68323595e-01]\n",
      " [ 2.61717388e+04  1.57510530e+07  7.49733956e+01  2.49432383e-03\n",
      "   0.00000000e+00  3.82138796e-03  4.18515490e-03  4.45632856e-02\n",
      "   9.71574506e-09  1.00000000e+00  3.45041951e+02  9.93598647e+02\n",
      "   0.00000000e+00  3.99881357e-03  6.97374482e+00  6.78993259e+02\n",
      "   7.84229701e-07  3.32303790e-03  1.77023954e-05  2.19007751e-04\n",
      "   9.92719692e-01  3.04211910e-01  3.85134632e-04  2.61717388e+04\n",
      "   2.49432383e-03  9.97505650e-01  7.49733956e+01  5.44185925e+00\n",
      "   9.50454974e-09  1.39320916e-02  9.30599822e-04  2.71928655e-04\n",
      "   7.44391412e-01  5.51219885e+01  7.88854077e-01  5.83529942e-06\n",
      "   5.21496098e-05  1.69167061e-02  5.60055019e-05  5.08335705e-03\n",
      "   2.41534421e-06  3.02892161e-03  1.56896424e-01  6.16886531e-14\n",
      "   1.17589966e-05  2.51348784e-05  1.22546882e-05  7.04135936e-07\n",
      "   9.52031979e-07  6.28717460e-06  4.18341968e-05  4.97500795e-05\n",
      "   0.00000000e+00  0.00000000e+00  5.34221494e-07  9.97434729e+01\n",
      "   7.19094023e-01]\n",
      " [ 3.56244833e+04  1.51150533e+07  7.49865274e+01  1.11947265e-03\n",
      "   0.00000000e+00  3.82309068e-03  4.01086789e-03  4.32254504e-02\n",
      "   4.27953952e-11  1.00000000e+00  3.79626510e+02  9.93038571e+02\n",
      "   0.00000000e+00  3.99714469e-03  8.08596152e+00  1.93931632e+02\n",
      "   9.46762615e-07  9.55084032e-07  1.61851824e-05 -2.80212051e-16\n",
      "   9.99980851e-01  1.92265323e-01  3.85000000e-04  3.56244833e+04\n",
      "   1.11947265e-03  9.98880510e-01  7.49865274e+01  5.73968795e+00\n",
      "   2.60364039e-08  1.43487879e-02  9.30684042e-04  3.03744956e-04\n",
      "   7.98942985e-01  5.50989164e+01  8.51488758e-01  7.23361292e-06\n",
      "   5.47030102e-05  2.41345974e-02  5.60194377e-05  4.76637687e-03\n",
      "   2.41853683e-06  6.85472983e-03  1.28167948e-01  7.40605218e-14\n",
      "   8.93229768e-07  2.59979963e-05  9.96643209e-07  6.68402820e-07\n",
      "   8.62284418e-07  9.12391785e-07  5.72689522e-05  5.33964315e-05\n",
      "   0.00000000e+00  0.00000000e+00  5.45235324e-07  1.00324044e+02\n",
      "   6.82962344e-01]]\n"
     ]
    }
   ],
   "source": [
    "kmeans = KMeans(n_clusters=4, random_state=0).fit(data)\n",
    "# Display labels\n",
    "print(kmeans.labels_)\n",
    "# Display Centroids\n",
    "print(kmeans.cluster_centers_)"
   ]
  }
 ],
 "metadata": {
  "kernelspec": {
   "display_name": "Python 3",
   "language": "python",
   "name": "python3"
  },
  "language_info": {
   "codemirror_mode": {
    "name": "ipython",
    "version": 3
   },
   "file_extension": ".py",
   "mimetype": "text/x-python",
   "name": "python",
   "nbconvert_exporter": "python",
   "pygments_lexer": "ipython3",
   "version": "3.7.3"
  }
 },
 "nbformat": 4,
 "nbformat_minor": 2
}
